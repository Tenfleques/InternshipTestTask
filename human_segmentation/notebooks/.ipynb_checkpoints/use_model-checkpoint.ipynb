{
 "cells": [
  {
   "cell_type": "code",
   "execution_count": null,
   "metadata": {},
   "outputs": [],
   "source": [
    "import os\n",
    "os.chdir(\"..\")"
   ]
  },
  {
   "cell_type": "code",
   "execution_count": null,
   "metadata": {
    "scrolled": true
   },
   "outputs": [],
   "source": [
    "from lib import *\n",
    "from keras.models import load_model\n",
    "import csv\n"
   ]
  },
  {
   "cell_type": "code",
   "execution_count": null,
   "metadata": {
    "scrolled": true
   },
   "outputs": [],
   "source": [
    "model = load_model('model-segmentation-3.h5', custom_objects={'mean_iou':mean_iou})"
   ]
  },
  {
   "cell_type": "code",
   "execution_count": null,
   "metadata": {
    "scrolled": false
   },
   "outputs": [],
   "source": [
    "model.summary()"
   ]
  },
  {
   "cell_type": "code",
   "execution_count": null,
   "metadata": {},
   "outputs": [],
   "source": [
    "BATCH_SIZE = 10 \n",
    "# memory issues on 8 gig container\n",
    "IMG_WIDTH = 240\n",
    "IMG_HEIGHT = 240\n",
    "IMG_CHANNELS = 3\n",
    "\n",
    "TRAIN_PATH = 'data/train'\n",
    "TRAIN_MASK_PATH = 'data/train_mask'\n",
    "\n",
    "VALIDATE_PATH = 'data/valid'\n",
    "VALIDATE_MASK_PATH = 'data/valid_mask'\n",
    "\n",
    "TEST_PATH = 'data/test'\n",
    "\n",
    "seed = 83\n",
    "\n",
    "images = os.listdir(TRAIN_PATH)\n",
    "val_images = os.listdir(VALIDATE_PATH)\n",
    "test_images = os.listdir(TEST_PATH)"
   ]
  },
  {
   "cell_type": "code",
   "execution_count": null,
   "metadata": {},
   "outputs": [],
   "source": [
    "X_train, Y_train = get_xy(images, TRAIN_PATH, TRAIN_MASK_PATH)\n",
    "X_validate, Y_validate = get_xy(val_images, VALIDATE_PATH, VALIDATE_MASK_PATH)\n",
    "X_test, Y_test_placeholder = get_xy(test_images, TEST_PATH)"
   ]
  },
  {
   "cell_type": "markdown",
   "metadata": {},
   "source": [
    "random_index = np.random.choice(X_test.shape[0])"
   ]
  },
  {
   "cell_type": "markdown",
   "metadata": {},
   "source": [
    "from PIL import Image\n",
    "from skimage.transform import resize"
   ]
  },
  {
   "cell_type": "markdown",
   "metadata": {},
   "source": [
    "y_test_at_random_index = model.predict(X_test[random_index][None,:,:,:])[0]\n",
    "y_test_mask_at_random_index = (y_test_at_random_index.squeeze()*255).astype(np.uint8)\n",
    "\n",
    "y_test_mask_at_random_index = resize(y_test_mask_at_random_index, (320, 240), mode='constant', \n",
    "                                      preserve_range=True)"
   ]
  },
  {
   "cell_type": "markdown",
   "metadata": {},
   "source": [
    "show_img_with_mask(X_test[random_index], y_test_mask_at_random_index)"
   ]
  },
  {
   "cell_type": "code",
   "execution_count": null,
   "metadata": {},
   "outputs": [],
   "source": [
    "X_valid_320_240, Y_valid_predicted = predict_mask(model, X_validate)"
   ]
  },
  {
   "cell_type": "code",
   "execution_count": null,
   "metadata": {},
   "outputs": [],
   "source": [
    "get_dice(Y_valid, Y_valid_predicted)"
   ]
  },
  {
   "cell_type": "code",
   "execution_count": null,
   "metadata": {},
   "outputs": [],
   "source": [
    "pred_valid_csv = []\n",
    "\n",
    "for i in range(len(images)):\n",
    "    img_id = images[i].split(\".\")[0]\n",
    "    pred_valid_csv.append({'id': img_id, 'rle_mask': encode_rle(Y_valid_predicted[i])})\n",
    "\n"
   ]
  },
  {
   "cell_type": "code",
   "execution_count": null,
   "metadata": {},
   "outputs": [],
   "source": [
    "csv_columns = ['id','rle_mask']\n",
    "csv_file = \"test.csv\"\n",
    "try:\n",
    "    with open(csv_file, 'w') as csvfile:\n",
    "        writer = csv.DictWriter(csvfile, fieldnames=csv_columns)\n",
    "        writer.writeheader()\n",
    "        for data in pred_valid_csv:\n",
    "            writer.writerow(data)\n",
    "except IOError:\n",
    "    print(\"I/O error\") \n"
   ]
  },
  {
   "cell_type": "code",
   "execution_count": null,
   "metadata": {},
   "outputs": [],
   "source": [
    "random_index = np.random.choice(X_validate.shape[0])\n",
    "show_img_with_mask(X_valid_320_240[random_index], Y_valid_predicted[random_index])"
   ]
  },
  {
   "cell_type": "code",
   "execution_count": null,
   "metadata": {},
   "outputs": [],
   "source": [
    "X_test_320_240, Y_test_predicted = predict_mask(model, X_test)"
   ]
  },
  {
   "cell_type": "code",
   "execution_count": null,
   "metadata": {
    "scrolled": true
   },
   "outputs": [],
   "source": [
    "random_index = np.random.choice(X_test.shape[0])\n",
    "show_img_with_mask(X_test_320_240[random_index], Y_test_predicted[random_index])"
   ]
  },
  {
   "cell_type": "code",
   "execution_count": null,
   "metadata": {},
   "outputs": [],
   "source": []
  }
 ],
 "metadata": {
  "kernelspec": {
   "display_name": "Python 3",
   "language": "python",
   "name": "python3"
  },
  "language_info": {
   "codemirror_mode": {
    "name": "ipython",
    "version": 3
   },
   "file_extension": ".py",
   "mimetype": "text/x-python",
   "name": "python",
   "nbconvert_exporter": "python",
   "pygments_lexer": "ipython3",
   "version": "3.6.8"
  }
 },
 "nbformat": 4,
 "nbformat_minor": 2
}
